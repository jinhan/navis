{
 "cells": [
  {
   "cell_type": "markdown",
   "id": "90e3e8ab",
   "metadata": {},
   "source": [
    "# H01 Dataset"
   ]
  },
  {
   "cell_type": "code",
   "execution_count": 57,
   "id": "b0efadb1",
   "metadata": {},
   "outputs": [],
   "source": [
    "## For Dev, clear cache and reload module\n",
    "# import navis\n",
    "# import importlib\n",
    "# import navis.interfaces.h01 as h01\n",
    "# importlib.reload(h01)\n",
    "import navis\n",
    "import navis.interfaces.h01 as h01"
   ]
  },
  {
   "cell_type": "markdown",
   "id": "c45eaf04-9ec4-44fe-a2c4-50064ca1296a",
   "metadata": {},
   "source": [
    "## Examples in using Navis interface for H01 dataset"
   ]
  },
  {
   "cell_type": "code",
   "execution_count": 26,
   "id": "f2392027-60ad-47e7-9854-242f133ce945",
   "metadata": {},
   "outputs": [],
   "source": [
    "auth = h01.Authentication()"
   ]
  },
  {
   "cell_type": "markdown",
   "id": "9b20f0e1-d9ed-4903-bd40-d7d87c54f4a1",
   "metadata": {},
   "source": [
    "## Scenario 1: Completely new user of H01 dataset"
   ]
  },
  {
   "cell_type": "code",
   "execution_count": 29,
   "id": "e1c3a9be-9fd1-4736-b8c2-bad99f2e0c59",
   "metadata": {},
   "outputs": [
    {
     "name": "stdout",
     "output_type": "stream",
     "text": [
      "Tokens need to be acquired by hand. Please follow the following steps:\n",
      "                1) Go to: https://global.brain-wire-test.org//auth/api/v1/user/token to view a list of your existing tokens.\n",
      "                2) Log in with your Google credentials copy one of the tokens from the dictionary (the string under the key 'token').\n",
      "                3a) Save it to your computer with: client.auth.save_token(token=\"PASTE_YOUR_TOKEN_HERE\")\n",
      "                or\n",
      "                3b) Set it for the current session only with client.auth.token = \"PASTE_YOUR_TOKEN_HERE\"\n",
      "                Note: If you need to save or load multiple tokens, please read the documentation for details.\n",
      "                if you want to create a new token, or have no token use ```self.get_new_token``` instead\n",
      "                or use this function with the keyword argument make_new=True\n"
     ]
    }
   ],
   "source": [
    "auth.setup_token(make_new=True)"
   ]
  },
  {
   "cell_type": "code",
   "execution_count": null,
   "id": "4b470777-39dc-4fd6-b362-c21fb55ca495",
   "metadata": {},
   "outputs": [],
   "source": [
    "auth.save_token(token=, overwrite=True)"
   ]
  },
  {
   "cell_type": "code",
   "execution_count": 31,
   "id": "193ffb9e-8078-4799-a56f-e28a2cb7cfc2",
   "metadata": {},
   "outputs": [],
   "source": [
    "client = h01.get_cave_client()"
   ]
  },
  {
   "cell_type": "markdown",
   "id": "62eb9a73-c190-46b9-9abe-0d49d0486348",
   "metadata": {},
   "source": [
    "## Scenario 2: Existing user, new computer"
   ]
  },
  {
   "cell_type": "code",
   "execution_count": null,
   "id": "c7f98ecd-5ec2-4f8f-9c04-83510f96c2d5",
   "metadata": {},
   "outputs": [],
   "source": [
    "auth.setup_token(make_new=False)"
   ]
  },
  {
   "cell_type": "code",
   "execution_count": null,
   "id": "a7367904-1cb0-4222-bd78-2b1ad0baf12a",
   "metadata": {},
   "outputs": [],
   "source": [
    "auth.save_token(token=, overwrite=True)"
   ]
  },
  {
   "cell_type": "code",
   "execution_count": null,
   "id": "f73cde02-2dae-488c-902a-ec7c51b7c92a",
   "metadata": {},
   "outputs": [],
   "source": [
    "client = h01.get_cave_client()"
   ]
  },
  {
   "cell_type": "markdown",
   "id": "f8584f41-a061-48da-a76a-5f4989bbc5bc",
   "metadata": {},
   "source": [
    "## Get CAVE client after setting up your token in your computer"
   ]
  },
  {
   "cell_type": "code",
   "execution_count": 59,
   "id": "84fc3f96-3407-40e0-a91e-35fcf9637c70",
   "metadata": {},
   "outputs": [],
   "source": [
    "client = h01.get_cave_client()"
   ]
  },
  {
   "cell_type": "markdown",
   "id": "c907df89-c3e9-430f-af12-8f3da22a7689",
   "metadata": {},
   "source": [
    "## Query Tables"
   ]
  },
  {
   "cell_type": "code",
   "execution_count": 33,
   "id": "7d4ad935-98fe-4d72-b11e-1ab113d5e241",
   "metadata": {},
   "outputs": [
    {
     "name": "stdout",
     "output_type": "stream",
     "text": [
      "Mat version:  446\n"
     ]
    },
    {
     "data": {
      "text/plain": [
       "['cells',\n",
       " 'nucleus',\n",
       " 'synapses',\n",
       " 'proofreading_status_test',\n",
       " 'synapses_using_sample_voxel_coords']"
      ]
     },
     "execution_count": 33,
     "metadata": {},
     "output_type": "execute_result"
    }
   ],
   "source": [
    "client.materialize.get_versions()\n",
    "print(\"Mat version: \", client.materialize.version)\n",
    "client.materialize.get_tables()"
   ]
  },
  {
   "cell_type": "markdown",
   "id": "da95d9ac-9f9a-4352-a7df-9d697c85f809",
   "metadata": {},
   "source": [
    "### Query Materialized Synapse Table"
   ]
  },
  {
   "cell_type": "code",
   "execution_count": 35,
   "id": "c4f80c52-8c79-45af-98d5-42ef642a3ad4",
   "metadata": {},
   "outputs": [
    {
     "name": "stderr",
     "output_type": "stream",
     "text": [
      "201 - \"Limited query to 10 rows\n"
     ]
    },
    {
     "data": {
      "text/html": [
       "<div>\n",
       "<style scoped>\n",
       "    .dataframe tbody tr th:only-of-type {\n",
       "        vertical-align: middle;\n",
       "    }\n",
       "\n",
       "    .dataframe tbody tr th {\n",
       "        vertical-align: top;\n",
       "    }\n",
       "\n",
       "    .dataframe thead th {\n",
       "        text-align: right;\n",
       "    }\n",
       "</style>\n",
       "<table border=\"1\" class=\"dataframe\">\n",
       "  <thead>\n",
       "    <tr style=\"text-align: right;\">\n",
       "      <th></th>\n",
       "      <th>id</th>\n",
       "      <th>created</th>\n",
       "      <th>superceded_id</th>\n",
       "      <th>valid</th>\n",
       "      <th>size</th>\n",
       "      <th>pre_pt_supervoxel_id</th>\n",
       "      <th>pre_pt_root_id</th>\n",
       "      <th>post_pt_supervoxel_id</th>\n",
       "      <th>post_pt_root_id</th>\n",
       "      <th>pre_pt_position</th>\n",
       "      <th>post_pt_position</th>\n",
       "      <th>ctr_pt_position</th>\n",
       "    </tr>\n",
       "  </thead>\n",
       "  <tbody>\n",
       "    <tr>\n",
       "      <th>0</th>\n",
       "      <td>40971523</td>\n",
       "      <td>2024-04-12 00:14:40.110821+00:00</td>\n",
       "      <td>NaN</td>\n",
       "      <td>t</td>\n",
       "      <td>NaN</td>\n",
       "      <td>134364238863925557</td>\n",
       "      <td>864691128621846602</td>\n",
       "      <td>134293870119747633</td>\n",
       "      <td>864691131861340864</td>\n",
       "      <td>[453256, 225950, 1879]</td>\n",
       "      <td>[453086, 226004, 1838]</td>\n",
       "      <td>[453312, 225966, 1883]</td>\n",
       "    </tr>\n",
       "    <tr>\n",
       "      <th>1</th>\n",
       "      <td>40971525</td>\n",
       "      <td>2024-04-12 00:14:40.110821+00:00</td>\n",
       "      <td>NaN</td>\n",
       "      <td>t</td>\n",
       "      <td>NaN</td>\n",
       "      <td>122744257927708975</td>\n",
       "      <td>864691132202350435</td>\n",
       "      <td>123448011605934094</td>\n",
       "      <td>864691132349699414</td>\n",
       "      <td>[369038, 157894, 4777]</td>\n",
       "      <td>[373770, 158410, 12]</td>\n",
       "      <td>[368610, 158562, 4703]</td>\n",
       "    </tr>\n",
       "    <tr>\n",
       "      <th>2</th>\n",
       "      <td>40971526</td>\n",
       "      <td>2024-04-12 00:14:40.110821+00:00</td>\n",
       "      <td>NaN</td>\n",
       "      <td>t</td>\n",
       "      <td>NaN</td>\n",
       "      <td>106917542483722336</td>\n",
       "      <td>864691132270145118</td>\n",
       "      <td>106776805062476142</td>\n",
       "      <td>864691132270173278</td>\n",
       "      <td>[253634, 204356, 1947]</td>\n",
       "      <td>[252889, 204590, 2104]</td>\n",
       "      <td>[253668, 204394, 1970]</td>\n",
       "    </tr>\n",
       "    <tr>\n",
       "      <th>3</th>\n",
       "      <td>40971531</td>\n",
       "      <td>2024-04-12 00:14:40.110821+00:00</td>\n",
       "      <td>NaN</td>\n",
       "      <td>t</td>\n",
       "      <td>NaN</td>\n",
       "      <td>123171415779180930</td>\n",
       "      <td>864691132169548413</td>\n",
       "      <td>123238142525309068</td>\n",
       "      <td>864691132434786616</td>\n",
       "      <td>[371948, 194706, 231]</td>\n",
       "      <td>[372276, 167562, 393]</td>\n",
       "      <td>[373837, 195793, 656]</td>\n",
       "    </tr>\n",
       "    <tr>\n",
       "      <th>4</th>\n",
       "      <td>40971532</td>\n",
       "      <td>2024-04-12 00:14:40.110821+00:00</td>\n",
       "      <td>NaN</td>\n",
       "      <td>t</td>\n",
       "      <td>NaN</td>\n",
       "      <td>112057964830916834</td>\n",
       "      <td>864691132186081100</td>\n",
       "      <td>123873454087733399</td>\n",
       "      <td>864691132419347623</td>\n",
       "      <td>[291270, 230762, 692]</td>\n",
       "      <td>[376984, 182427, 422]</td>\n",
       "      <td>[291536, 230572, 743]</td>\n",
       "    </tr>\n",
       "    <tr>\n",
       "      <th>5</th>\n",
       "      <td>40971533</td>\n",
       "      <td>2024-04-12 00:14:40.110821+00:00</td>\n",
       "      <td>NaN</td>\n",
       "      <td>t</td>\n",
       "      <td>NaN</td>\n",
       "      <td>123247282417042025</td>\n",
       "      <td>864691131368353049</td>\n",
       "      <td>123106476209209491</td>\n",
       "      <td>864691132146145331</td>\n",
       "      <td>[372432, 235870, 836]</td>\n",
       "      <td>[371386, 235338, 800]</td>\n",
       "      <td>[372404, 235926, 878]</td>\n",
       "    </tr>\n",
       "    <tr>\n",
       "      <th>6</th>\n",
       "      <td>40971543</td>\n",
       "      <td>2024-04-12 00:14:40.110821+00:00</td>\n",
       "      <td>NaN</td>\n",
       "      <td>t</td>\n",
       "      <td>NaN</td>\n",
       "      <td>111615894450340136</td>\n",
       "      <td>864691131150038069</td>\n",
       "      <td>110277925298765887</td>\n",
       "      <td>864691132256098281</td>\n",
       "      <td>[288132, 82436, 4516]</td>\n",
       "      <td>[278270, 75460, 2688]</td>\n",
       "      <td>[288126, 82449, 4534]</td>\n",
       "    </tr>\n",
       "    <tr>\n",
       "      <th>7</th>\n",
       "      <td>40971544</td>\n",
       "      <td>2024-04-12 00:14:40.110821+00:00</td>\n",
       "      <td>NaN</td>\n",
       "      <td>t</td>\n",
       "      <td>NaN</td>\n",
       "      <td>97420786213584924</td>\n",
       "      <td>864691132283064473</td>\n",
       "      <td>98476316705161844</td>\n",
       "      <td>864691132291684761</td>\n",
       "      <td>[184568, 226882, 2954]</td>\n",
       "      <td>[192388, 226910, 1720]</td>\n",
       "      <td>[186353, 228578, 2425]</td>\n",
       "    </tr>\n",
       "    <tr>\n",
       "      <th>8</th>\n",
       "      <td>40971558</td>\n",
       "      <td>2024-04-12 00:14:40.110821+00:00</td>\n",
       "      <td>NaN</td>\n",
       "      <td>t</td>\n",
       "      <td>NaN</td>\n",
       "      <td>106124452210671785</td>\n",
       "      <td>864691130242818215</td>\n",
       "      <td>106686508676678327</td>\n",
       "      <td>864691132254753632</td>\n",
       "      <td>[247898, 62853, 4234]</td>\n",
       "      <td>[251917, 56124, 4088]</td>\n",
       "      <td>[247909, 62819, 4232]</td>\n",
       "    </tr>\n",
       "    <tr>\n",
       "      <th>9</th>\n",
       "      <td>40971570</td>\n",
       "      <td>2024-04-12 00:14:40.110821+00:00</td>\n",
       "      <td>NaN</td>\n",
       "      <td>t</td>\n",
       "      <td>NaN</td>\n",
       "      <td>120781010190205127</td>\n",
       "      <td>864691131982166038</td>\n",
       "      <td>123383897072337185</td>\n",
       "      <td>864691132339647570</td>\n",
       "      <td>[354624, 210728, 2843]</td>\n",
       "      <td>[373366, 204850, 1449]</td>\n",
       "      <td>[354762, 211287, 2855]</td>\n",
       "    </tr>\n",
       "  </tbody>\n",
       "</table>\n",
       "</div>"
      ],
      "text/plain": [
       "         id                          created  superceded_id valid  size  \\\n",
       "0  40971523 2024-04-12 00:14:40.110821+00:00            NaN     t   NaN   \n",
       "1  40971525 2024-04-12 00:14:40.110821+00:00            NaN     t   NaN   \n",
       "2  40971526 2024-04-12 00:14:40.110821+00:00            NaN     t   NaN   \n",
       "3  40971531 2024-04-12 00:14:40.110821+00:00            NaN     t   NaN   \n",
       "4  40971532 2024-04-12 00:14:40.110821+00:00            NaN     t   NaN   \n",
       "5  40971533 2024-04-12 00:14:40.110821+00:00            NaN     t   NaN   \n",
       "6  40971543 2024-04-12 00:14:40.110821+00:00            NaN     t   NaN   \n",
       "7  40971544 2024-04-12 00:14:40.110821+00:00            NaN     t   NaN   \n",
       "8  40971558 2024-04-12 00:14:40.110821+00:00            NaN     t   NaN   \n",
       "9  40971570 2024-04-12 00:14:40.110821+00:00            NaN     t   NaN   \n",
       "\n",
       "   pre_pt_supervoxel_id      pre_pt_root_id  post_pt_supervoxel_id  \\\n",
       "0    134364238863925557  864691128621846602     134293870119747633   \n",
       "1    122744257927708975  864691132202350435     123448011605934094   \n",
       "2    106917542483722336  864691132270145118     106776805062476142   \n",
       "3    123171415779180930  864691132169548413     123238142525309068   \n",
       "4    112057964830916834  864691132186081100     123873454087733399   \n",
       "5    123247282417042025  864691131368353049     123106476209209491   \n",
       "6    111615894450340136  864691131150038069     110277925298765887   \n",
       "7     97420786213584924  864691132283064473      98476316705161844   \n",
       "8    106124452210671785  864691130242818215     106686508676678327   \n",
       "9    120781010190205127  864691131982166038     123383897072337185   \n",
       "\n",
       "      post_pt_root_id         pre_pt_position        post_pt_position  \\\n",
       "0  864691131861340864  [453256, 225950, 1879]  [453086, 226004, 1838]   \n",
       "1  864691132349699414  [369038, 157894, 4777]    [373770, 158410, 12]   \n",
       "2  864691132270173278  [253634, 204356, 1947]  [252889, 204590, 2104]   \n",
       "3  864691132434786616   [371948, 194706, 231]   [372276, 167562, 393]   \n",
       "4  864691132419347623   [291270, 230762, 692]   [376984, 182427, 422]   \n",
       "5  864691132146145331   [372432, 235870, 836]   [371386, 235338, 800]   \n",
       "6  864691132256098281   [288132, 82436, 4516]   [278270, 75460, 2688]   \n",
       "7  864691132291684761  [184568, 226882, 2954]  [192388, 226910, 1720]   \n",
       "8  864691132254753632   [247898, 62853, 4234]   [251917, 56124, 4088]   \n",
       "9  864691132339647570  [354624, 210728, 2843]  [373366, 204850, 1449]   \n",
       "\n",
       "          ctr_pt_position  \n",
       "0  [453312, 225966, 1883]  \n",
       "1  [368610, 158562, 4703]  \n",
       "2  [253668, 204394, 1970]  \n",
       "3   [373837, 195793, 656]  \n",
       "4   [291536, 230572, 743]  \n",
       "5   [372404, 235926, 878]  \n",
       "6   [288126, 82449, 4534]  \n",
       "7  [186353, 228578, 2425]  \n",
       "8   [247909, 62819, 4232]  \n",
       "9  [354762, 211287, 2855]  "
      ]
     },
     "execution_count": 35,
     "metadata": {},
     "output_type": "execute_result"
    }
   ],
   "source": [
    "client.materialize.synapse_query(limit=10)"
   ]
  },
  {
   "cell_type": "code",
   "execution_count": 37,
   "id": "b7e5ca51-8784-4d92-b81a-bf83f54db2a9",
   "metadata": {},
   "outputs": [
    {
     "name": "stdout",
     "output_type": "stream",
     "text": [
      "8\n"
     ]
    }
   ],
   "source": [
    "syn = client.materialize.synapse_query(\n",
    "    post_ids=[864691131861340864],\n",
    "    # pre_ids=[ADD YOUR ROOT ID],\n",
    ")\n",
    "syn.head()\n",
    "print(len(syn))"
   ]
  },
  {
   "cell_type": "markdown",
   "id": "3e315b49-f25b-4c9d-b1d9-25170890ae82",
   "metadata": {},
   "source": [
    "### Live Synapse Queries"
   ]
  },
  {
   "cell_type": "code",
   "execution_count": 40,
   "id": "c1352877-c3d9-4a93-9fa0-d3b92385acaf",
   "metadata": {},
   "outputs": [
    {
     "name": "stdout",
     "output_type": "stream",
     "text": [
      "[ True]\n",
      "[864691131861340864]\n"
     ]
    }
   ],
   "source": [
    "import datetime\n",
    "# check if root ID is the most recent root ID\n",
    "root_id = 864691131861340864\n",
    "now = datetime.datetime.now(datetime.timezone.utc)\n",
    "is_latest = client.chunkedgraph.is_latest_roots([root_id], timestamp=now)\n",
    "latest_id = client.chunkedgraph.get_latest_roots(root_id, timestamp=now)\n",
    "print(is_latest) \n",
    "print(latest_id)"
   ]
  },
  {
   "cell_type": "code",
   "execution_count": 41,
   "id": "6adb81fc-213f-47f5-887f-9b1f0d24ac62",
   "metadata": {},
   "outputs": [
    {
     "name": "stdout",
     "output_type": "stream",
     "text": [
      "8\n"
     ]
    },
    {
     "data": {
      "text/html": [
       "<div>\n",
       "<style scoped>\n",
       "    .dataframe tbody tr th:only-of-type {\n",
       "        vertical-align: middle;\n",
       "    }\n",
       "\n",
       "    .dataframe tbody tr th {\n",
       "        vertical-align: top;\n",
       "    }\n",
       "\n",
       "    .dataframe thead th {\n",
       "        text-align: right;\n",
       "    }\n",
       "</style>\n",
       "<table border=\"1\" class=\"dataframe\">\n",
       "  <thead>\n",
       "    <tr style=\"text-align: right;\">\n",
       "      <th></th>\n",
       "      <th>id</th>\n",
       "      <th>created</th>\n",
       "      <th>superceded_id</th>\n",
       "      <th>valid</th>\n",
       "      <th>size</th>\n",
       "      <th>pre_pt_supervoxel_id</th>\n",
       "      <th>pre_pt_root_id</th>\n",
       "      <th>post_pt_supervoxel_id</th>\n",
       "      <th>post_pt_root_id</th>\n",
       "      <th>pre_pt_position</th>\n",
       "      <th>post_pt_position</th>\n",
       "      <th>ctr_pt_position</th>\n",
       "    </tr>\n",
       "  </thead>\n",
       "  <tbody>\n",
       "    <tr>\n",
       "      <th>0</th>\n",
       "      <td>40882209</td>\n",
       "      <td>2024-04-12 00:14:37.031216+00:00</td>\n",
       "      <td>NaN</td>\n",
       "      <td>t</td>\n",
       "      <td>NaN</td>\n",
       "      <td>134364238863925573</td>\n",
       "      <td>864691128621846858</td>\n",
       "      <td>134293870119747633</td>\n",
       "      <td>864691131861340864</td>\n",
       "      <td>[453528, 225898, 1883]</td>\n",
       "      <td>[453086, 226004, 1838]</td>\n",
       "      <td>[453539, 225957, 1897]</td>\n",
       "    </tr>\n",
       "    <tr>\n",
       "      <th>1</th>\n",
       "      <td>40899780</td>\n",
       "      <td>2024-04-12 00:14:37.548445+00:00</td>\n",
       "      <td>NaN</td>\n",
       "      <td>t</td>\n",
       "      <td>NaN</td>\n",
       "      <td>134434607608102964</td>\n",
       "      <td>864691130486857485</td>\n",
       "      <td>134293870119747633</td>\n",
       "      <td>864691131861340864</td>\n",
       "      <td>[453872, 225934, 1847]</td>\n",
       "      <td>[453086, 226004, 1838]</td>\n",
       "      <td>[453854, 226063, 1851]</td>\n",
       "    </tr>\n",
       "    <tr>\n",
       "      <th>2</th>\n",
       "      <td>40924493</td>\n",
       "      <td>2024-04-12 00:14:38.495865+00:00</td>\n",
       "      <td>NaN</td>\n",
       "      <td>t</td>\n",
       "      <td>NaN</td>\n",
       "      <td>134223432656093315</td>\n",
       "      <td>864691132015686175</td>\n",
       "      <td>134293870119747633</td>\n",
       "      <td>864691131861340864</td>\n",
       "      <td>[452262, 225346, 1846]</td>\n",
       "      <td>[453086, 226004, 1838]</td>\n",
       "      <td>[453124, 225933, 1852]</td>\n",
       "    </tr>\n",
       "    <tr>\n",
       "      <th>3</th>\n",
       "      <td>40935748</td>\n",
       "      <td>2024-04-12 00:14:38.723502+00:00</td>\n",
       "      <td>NaN</td>\n",
       "      <td>t</td>\n",
       "      <td>NaN</td>\n",
       "      <td>134434676327579728</td>\n",
       "      <td>864691131840536421</td>\n",
       "      <td>134293870119747633</td>\n",
       "      <td>864691131861340864</td>\n",
       "      <td>[453838, 226378, 1849]</td>\n",
       "      <td>[453086, 226004, 1838]</td>\n",
       "      <td>[453786, 226050, 1873]</td>\n",
       "    </tr>\n",
       "    <tr>\n",
       "      <th>4</th>\n",
       "      <td>40954321</td>\n",
       "      <td>2024-04-12 00:14:39.566756+00:00</td>\n",
       "      <td>NaN</td>\n",
       "      <td>t</td>\n",
       "      <td>NaN</td>\n",
       "      <td>134293732747903463</td>\n",
       "      <td>864691132191805487</td>\n",
       "      <td>134293870119747633</td>\n",
       "      <td>864691131861340864</td>\n",
       "      <td>[453008, 224834, 1980]</td>\n",
       "      <td>[453086, 226004, 1838]</td>\n",
       "      <td>[453459, 225953, 1891]</td>\n",
       "    </tr>\n",
       "  </tbody>\n",
       "</table>\n",
       "</div>"
      ],
      "text/plain": [
       "         id                          created  superceded_id valid  size  \\\n",
       "0  40882209 2024-04-12 00:14:37.031216+00:00            NaN     t   NaN   \n",
       "1  40899780 2024-04-12 00:14:37.548445+00:00            NaN     t   NaN   \n",
       "2  40924493 2024-04-12 00:14:38.495865+00:00            NaN     t   NaN   \n",
       "3  40935748 2024-04-12 00:14:38.723502+00:00            NaN     t   NaN   \n",
       "4  40954321 2024-04-12 00:14:39.566756+00:00            NaN     t   NaN   \n",
       "\n",
       "   pre_pt_supervoxel_id      pre_pt_root_id  post_pt_supervoxel_id  \\\n",
       "0    134364238863925573  864691128621846858     134293870119747633   \n",
       "1    134434607608102964  864691130486857485     134293870119747633   \n",
       "2    134223432656093315  864691132015686175     134293870119747633   \n",
       "3    134434676327579728  864691131840536421     134293870119747633   \n",
       "4    134293732747903463  864691132191805487     134293870119747633   \n",
       "\n",
       "      post_pt_root_id         pre_pt_position        post_pt_position  \\\n",
       "0  864691131861340864  [453528, 225898, 1883]  [453086, 226004, 1838]   \n",
       "1  864691131861340864  [453872, 225934, 1847]  [453086, 226004, 1838]   \n",
       "2  864691131861340864  [452262, 225346, 1846]  [453086, 226004, 1838]   \n",
       "3  864691131861340864  [453838, 226378, 1849]  [453086, 226004, 1838]   \n",
       "4  864691131861340864  [453008, 224834, 1980]  [453086, 226004, 1838]   \n",
       "\n",
       "          ctr_pt_position  \n",
       "0  [453539, 225957, 1897]  \n",
       "1  [453854, 226063, 1851]  \n",
       "2  [453124, 225933, 1852]  \n",
       "3  [453786, 226050, 1873]  \n",
       "4  [453459, 225953, 1891]  "
      ]
     },
     "execution_count": 41,
     "metadata": {},
     "output_type": "execute_result"
    }
   ],
   "source": [
    "synapse_table = client.info.get_datastack_info()['synapse_table']\n",
    "df=client.materialize.query_table(synapse_table,\n",
    "                                  timestamp = datetime.datetime.now(datetime.timezone.utc),\n",
    "                                  filter_equal_dict = {'post_pt_root_id': latest_id[0]})\n",
    "print(len(df))\n",
    "df.head()"
   ]
  },
  {
   "cell_type": "markdown",
   "id": "31de9461-824f-4e81-99e4-aa0ce835b773",
   "metadata": {},
   "source": [
    "### Query Cells Table"
   ]
  },
  {
   "cell_type": "code",
   "execution_count": 3,
   "id": "18e9ad20-f48c-4e02-a3b4-cc90cf083fa7",
   "metadata": {},
   "outputs": [
    {
     "name": "stderr",
     "output_type": "stream",
     "text": [
      "Client requested an schema service endpoint (see \"schema_definition_all\") not yet available on your deployment. Please talk to your admin about updating your deployment\n"
     ]
    },
    {
     "data": {
      "text/html": [
       "<div>\n",
       "<style scoped>\n",
       "    .dataframe tbody tr th:only-of-type {\n",
       "        vertical-align: middle;\n",
       "    }\n",
       "\n",
       "    .dataframe tbody tr th {\n",
       "        vertical-align: top;\n",
       "    }\n",
       "\n",
       "    .dataframe thead th {\n",
       "        text-align: right;\n",
       "    }\n",
       "</style>\n",
       "<table border=\"1\" class=\"dataframe\">\n",
       "  <thead>\n",
       "    <tr style=\"text-align: right;\">\n",
       "      <th></th>\n",
       "      <th>id</th>\n",
       "      <th>created</th>\n",
       "      <th>superceded_id</th>\n",
       "      <th>valid</th>\n",
       "      <th>classification_system</th>\n",
       "      <th>cell_type</th>\n",
       "      <th>pt_supervoxel_id</th>\n",
       "      <th>pt_root_id</th>\n",
       "      <th>pt_position</th>\n",
       "    </tr>\n",
       "  </thead>\n",
       "  <tbody>\n",
       "    <tr>\n",
       "      <th>0</th>\n",
       "      <td>1</td>\n",
       "      <td>2023-06-15 19:27:23.586264+00:00</td>\n",
       "      <td>NaN</td>\n",
       "      <td>t</td>\n",
       "      <td>0, 0, 0</td>\n",
       "      <td>UNKNOWN0</td>\n",
       "      <td>0</td>\n",
       "      <td>0</td>\n",
       "      <td>[0, 0, 0]</td>\n",
       "    </tr>\n",
       "    <tr>\n",
       "      <th>1</th>\n",
       "      <td>2</td>\n",
       "      <td>2023-06-15 19:27:23.587056+00:00</td>\n",
       "      <td>NaN</td>\n",
       "      <td>t</td>\n",
       "      <td>0, 0, 0</td>\n",
       "      <td>UNKNOWN0</td>\n",
       "      <td>0</td>\n",
       "      <td>0</td>\n",
       "      <td>[0, 0, 0]</td>\n",
       "    </tr>\n",
       "    <tr>\n",
       "      <th>2</th>\n",
       "      <td>3</td>\n",
       "      <td>2023-06-15 19:27:23.587786+00:00</td>\n",
       "      <td>NaN</td>\n",
       "      <td>t</td>\n",
       "      <td>0, 0, 0</td>\n",
       "      <td>UNKNOWN0</td>\n",
       "      <td>0</td>\n",
       "      <td>0</td>\n",
       "      <td>[0, 0, 0]</td>\n",
       "    </tr>\n",
       "    <tr>\n",
       "      <th>3</th>\n",
       "      <td>4</td>\n",
       "      <td>2023-06-15 19:27:23.588481+00:00</td>\n",
       "      <td>NaN</td>\n",
       "      <td>t</td>\n",
       "      <td>0, 0, 0</td>\n",
       "      <td>UNKNOWN0</td>\n",
       "      <td>0</td>\n",
       "      <td>0</td>\n",
       "      <td>[0, 0, 0]</td>\n",
       "    </tr>\n",
       "    <tr>\n",
       "      <th>4</th>\n",
       "      <td>5</td>\n",
       "      <td>2023-06-15 19:27:23.589166+00:00</td>\n",
       "      <td>NaN</td>\n",
       "      <td>t</td>\n",
       "      <td>0, 0, 0</td>\n",
       "      <td>UNKNOWN0</td>\n",
       "      <td>0</td>\n",
       "      <td>0</td>\n",
       "      <td>[0, 0, 0]</td>\n",
       "    </tr>\n",
       "  </tbody>\n",
       "</table>\n",
       "</div>"
      ],
      "text/plain": [
       "   id                          created  superceded_id valid  \\\n",
       "0   1 2023-06-15 19:27:23.586264+00:00            NaN     t   \n",
       "1   2 2023-06-15 19:27:23.587056+00:00            NaN     t   \n",
       "2   3 2023-06-15 19:27:23.587786+00:00            NaN     t   \n",
       "3   4 2023-06-15 19:27:23.588481+00:00            NaN     t   \n",
       "4   5 2023-06-15 19:27:23.589166+00:00            NaN     t   \n",
       "\n",
       "  classification_system cell_type  pt_supervoxel_id  pt_root_id pt_position  \n",
       "0               0, 0, 0  UNKNOWN0                 0           0   [0, 0, 0]  \n",
       "1               0, 0, 0  UNKNOWN0                 0           0   [0, 0, 0]  \n",
       "2               0, 0, 0  UNKNOWN0                 0           0   [0, 0, 0]  \n",
       "3               0, 0, 0  UNKNOWN0                 0           0   [0, 0, 0]  \n",
       "4               0, 0, 0  UNKNOWN0                 0           0   [0, 0, 0]  "
      ]
     },
     "execution_count": 3,
     "metadata": {},
     "output_type": "execute_result"
    }
   ],
   "source": [
    "ct = client.materialize.query_table(table=\"cells\")\n",
    "ct.head()"
   ]
  },
  {
   "cell_type": "code",
   "execution_count": 4,
   "id": "74eaeb20-ae66-4a37-8f70-c527d352f716",
   "metadata": {},
   "outputs": [
    {
     "data": {
      "text/plain": [
       "array(['UNKNOWN0', 'PYRAMIDAL', 'UNCLASSIFIEDNEURON', 'UNKNOWN2', 'OLIGO',\n",
       "       'ASTROCYTE', 'MG_OPC', 'INTERNEURON', 'BLOODVESSELCELL',\n",
       "       'UNKNOWN1', 'C-SHAPEDCELL_AKA_MG_OPC'], dtype=object)"
      ]
     },
     "execution_count": 4,
     "metadata": {},
     "output_type": "execute_result"
    }
   ],
   "source": [
    "ct.cell_type.unique()"
   ]
  },
  {
   "cell_type": "markdown",
   "id": "bb166771",
   "metadata": {},
   "source": [
    "### Filter by cell type"
   ]
  },
  {
   "cell_type": "code",
   "execution_count": 40,
   "id": "7359971c-52ed-41f5-aca5-49cd815addea",
   "metadata": {},
   "outputs": [],
   "source": [
    "interneuron_ids = ct[ct.cell_type == \"INTERNEURON\"].pt_root_id.values[:50]"
   ]
  },
  {
   "cell_type": "code",
   "execution_count": 41,
   "id": "bf7aa50c-6d2b-4fd8-be02-abe3b7c5b74c",
   "metadata": {},
   "outputs": [
    {
     "data": {
      "text/plain": [
       "array([864691132341213351, 864691132343125732, 864691132440298746,\n",
       "       864691132301485893, 864691132254968355, 864691132509654349,\n",
       "       864691132254843391])"
      ]
     },
     "execution_count": 41,
     "metadata": {},
     "output_type": "execute_result"
    }
   ],
   "source": [
    "interneuron_ids = interneuron_ids[interneuron_ids != 0 ]\n",
    "interneuron_ids"
   ]
  },
  {
   "cell_type": "code",
   "execution_count": 42,
   "id": "9f058528",
   "metadata": {},
   "outputs": [
    {
     "data": {
      "text/plain": [
       "7"
      ]
     },
     "execution_count": 42,
     "metadata": {},
     "output_type": "execute_result"
    }
   ],
   "source": [
    "len(interneuron_ids)"
   ]
  },
  {
   "cell_type": "code",
   "execution_count": 43,
   "id": "d604df68",
   "metadata": {},
   "outputs": [
    {
     "name": "stdout",
     "output_type": "stream",
     "text": [
      "<caveclient.frameworkclient.CAVEclientFull object at 0x1614aecd0>\n"
     ]
    },
    {
     "data": {
      "application/vnd.jupyter.widget-view+json": {
       "model_id": "4e44d5fc4b1e4ee2836247af9c6f7d17",
       "version_major": 2,
       "version_minor": 0
      },
      "text/plain": [
       "Fetching:   0%|          | 0/7 [00:00<?, ?it/s]"
      ]
     },
     "metadata": {},
     "output_type": "display_data"
    },
    {
     "name": "stdout",
     "output_type": "stream",
     "text": [
      "Warning: deduplication not currently supported for this layer's variable layered draco meshes\n",
      "Warning: deduplication not currently supported for this layer's variable layered draco meshes\n",
      "Warning: deduplication not currently supported for this layer's variable layered draco meshes\n",
      "Warning: deduplication not currently supported for this layer's variable layered draco meshes\n",
      "Warning: deduplication not currently supported for this layer's variable layered draco meshes\n",
      "Warning: deduplication not currently supported for this layer's variable layered draco meshes\n",
      "Warning: deduplication not currently supported for this layer's variable layered draco meshes\n"
     ]
    }
   ],
   "source": [
    "interneurons = h01.fetch_neurons(interneuron_ids, lod=2, with_synapses=False)"
   ]
  },
  {
   "cell_type": "code",
   "execution_count": 44,
   "id": "3f30d8b4",
   "metadata": {},
   "outputs": [
    {
     "data": {
      "application/vnd.jupyter.widget-view+json": {
       "model_id": "f66d00b6c43640b3a621e1cf57c93f4c",
       "version_major": 2,
       "version_minor": 0
      },
      "text/plain": [
       "Simplifying:   0%|          | 0/7 [00:00<?, ?it/s]"
      ]
     },
     "metadata": {},
     "output_type": "display_data"
    }
   ],
   "source": [
    "interneurons_ds = navis.simplify_mesh(interneurons, F=1/3)"
   ]
  },
  {
   "cell_type": "code",
   "execution_count": 45,
   "id": "d7db6065",
   "metadata": {},
   "outputs": [
    {
     "data": {
      "text/html": [
       "&lt;class 'navis.core.neuronlist.NeuronList'&gt; containing 1 neurons (5.6MiB)<div>\n",
       "<style scoped>\n",
       "    .dataframe tbody tr th:only-of-type {\n",
       "        vertical-align: middle;\n",
       "    }\n",
       "\n",
       "    .dataframe tbody tr th {\n",
       "        vertical-align: top;\n",
       "    }\n",
       "\n",
       "    .dataframe thead th {\n",
       "        text-align: right;\n",
       "    }\n",
       "</style>\n",
       "<table border=\"1\" class=\"dataframe\">\n",
       "  <thead>\n",
       "    <tr style=\"text-align: right;\">\n",
       "      <th></th>\n",
       "      <th>type</th>\n",
       "      <th>name</th>\n",
       "      <th>id</th>\n",
       "      <th>units</th>\n",
       "      <th>n_vertices</th>\n",
       "      <th>n_faces</th>\n",
       "    </tr>\n",
       "  </thead>\n",
       "  <tbody>\n",
       "    <tr>\n",
       "      <th>0</th>\n",
       "      <td>navis.MeshNeuron</td>\n",
       "      <td>None</td>\n",
       "      <td>864691132341213351</td>\n",
       "      <td>1 nanometer</td>\n",
       "      <td>123955</td>\n",
       "      <td>239637</td>\n",
       "    </tr>\n",
       "  </tbody>\n",
       "</table>\n",
       "</div>"
      ],
      "text/plain": [
       "<class 'navis.core.neuronlist.NeuronList'> containing 1 neurons (5.6MiB)\n",
       "               type  name                  id        units  n_vertices  \\\n",
       "0  navis.MeshNeuron  None  864691132341213351  1 nanometer      123955   \n",
       "\n",
       "   n_faces  \n",
       "0   239637  "
      ]
     },
     "execution_count": 45,
     "metadata": {},
     "output_type": "execute_result"
    }
   ],
   "source": [
    "interneuron_ds"
   ]
  },
  {
   "cell_type": "code",
   "execution_count": null,
   "id": "f93ef490",
   "metadata": {},
   "outputs": [],
   "source": [
    "import seaborn as sns\n",
    "colors = {n.id: sns.color_palette('Reds', 7)[i] for i, n in enumerate(interneurons_ds)}\n",
    "fig = navis.plot3d([interneurons_ds], color=colors)"
   ]
  },
  {
   "cell_type": "markdown",
   "id": "a8785a47",
   "metadata": {},
   "source": [
    "## Get Skeletons"
   ]
  },
  {
   "cell_type": "code",
   "execution_count": 53,
   "id": "d028f05e",
   "metadata": {},
   "outputs": [
    {
     "data": {
      "application/vnd.jupyter.widget-view+json": {
       "model_id": "09183d27ea5b4bd6b826131c5b35f8ed",
       "version_major": 2,
       "version_minor": 0
      },
      "text/plain": [
       "Skeletonizing:   0%|          | 0/7 [00:00<?, ?it/s]"
      ]
     },
     "metadata": {},
     "output_type": "display_data"
    }
   ],
   "source": [
    "interneurons_sk = navis.skeletonize(interneurons, parallel=True)"
   ]
  },
  {
   "cell_type": "code",
   "execution_count": 54,
   "id": "a7e270bb",
   "metadata": {},
   "outputs": [
    {
     "data": {
      "text/html": [
       "&lt;class 'navis.core.neuronlist.NeuronList'&gt; containing 7 neurons (31.7MiB)<div>\n",
       "<style scoped>\n",
       "    .dataframe tbody tr th:only-of-type {\n",
       "        vertical-align: middle;\n",
       "    }\n",
       "\n",
       "    .dataframe tbody tr th {\n",
       "        vertical-align: top;\n",
       "    }\n",
       "\n",
       "    .dataframe thead th {\n",
       "        text-align: right;\n",
       "    }\n",
       "</style>\n",
       "<table border=\"1\" class=\"dataframe\">\n",
       "  <thead>\n",
       "    <tr style=\"text-align: right;\">\n",
       "      <th></th>\n",
       "      <th>type</th>\n",
       "      <th>name</th>\n",
       "      <th>id</th>\n",
       "      <th>n_nodes</th>\n",
       "      <th>n_connectors</th>\n",
       "      <th>n_branches</th>\n",
       "      <th>n_leafs</th>\n",
       "      <th>cable_length</th>\n",
       "      <th>soma</th>\n",
       "      <th>units</th>\n",
       "    </tr>\n",
       "  </thead>\n",
       "  <tbody>\n",
       "    <tr>\n",
       "      <th>0</th>\n",
       "      <td>navis.TreeNeuron</td>\n",
       "      <td>None</td>\n",
       "      <td>864691132301485893</td>\n",
       "      <td>15980</td>\n",
       "      <td>None</td>\n",
       "      <td>155</td>\n",
       "      <td>6222</td>\n",
       "      <td>1.038766e+06</td>\n",
       "      <td>None</td>\n",
       "      <td>1 nanometer</td>\n",
       "    </tr>\n",
       "    <tr>\n",
       "      <th>1</th>\n",
       "      <td>navis.TreeNeuron</td>\n",
       "      <td>None</td>\n",
       "      <td>864691132341213351</td>\n",
       "      <td>15096</td>\n",
       "      <td>None</td>\n",
       "      <td>281</td>\n",
       "      <td>3528</td>\n",
       "      <td>1.902702e+06</td>\n",
       "      <td>None</td>\n",
       "      <td>1 nanometer</td>\n",
       "    </tr>\n",
       "    <tr>\n",
       "      <th>...</th>\n",
       "      <td>...</td>\n",
       "      <td>...</td>\n",
       "      <td>...</td>\n",
       "      <td>...</td>\n",
       "      <td>...</td>\n",
       "      <td>...</td>\n",
       "      <td>...</td>\n",
       "      <td>...</td>\n",
       "      <td>...</td>\n",
       "      <td>...</td>\n",
       "    </tr>\n",
       "    <tr>\n",
       "      <th>5</th>\n",
       "      <td>navis.TreeNeuron</td>\n",
       "      <td>None</td>\n",
       "      <td>864691132509654349</td>\n",
       "      <td>20651</td>\n",
       "      <td>None</td>\n",
       "      <td>321</td>\n",
       "      <td>8097</td>\n",
       "      <td>1.759722e+06</td>\n",
       "      <td>None</td>\n",
       "      <td>1 nanometer</td>\n",
       "    </tr>\n",
       "    <tr>\n",
       "      <th>6</th>\n",
       "      <td>navis.TreeNeuron</td>\n",
       "      <td>None</td>\n",
       "      <td>864691132254843391</td>\n",
       "      <td>35232</td>\n",
       "      <td>None</td>\n",
       "      <td>340</td>\n",
       "      <td>14798</td>\n",
       "      <td>1.888383e+06</td>\n",
       "      <td>None</td>\n",
       "      <td>1 nanometer</td>\n",
       "    </tr>\n",
       "  </tbody>\n",
       "</table>\n",
       "</div>"
      ],
      "text/plain": [
       "<class 'navis.core.neuronlist.NeuronList'> containing 7 neurons (31.7MiB)\n",
       "                type  name                  id  n_nodes n_connectors  \\\n",
       "0   navis.TreeNeuron  None  864691132301485893    15980         None   \n",
       "1   navis.TreeNeuron  None  864691132341213351    15096         None   \n",
       "..               ...   ...                 ...      ...          ...   \n",
       "5   navis.TreeNeuron  None  864691132509654349    20651         None   \n",
       "6   navis.TreeNeuron  None  864691132254843391    35232         None   \n",
       "\n",
       "    n_branches  n_leafs  cable_length  soma        units  \n",
       "0          759     6222  1.038766e+06  None  1 nanometer  \n",
       "1         1448     3528  1.902702e+06  None  1 nanometer  \n",
       "..         ...      ...           ...   ...          ...  \n",
       "5         1264     8097  1.759722e+06  None  1 nanometer  \n",
       "6         1585    14798  1.888383e+06  None  1 nanometer  "
      ]
     },
     "execution_count": 54,
     "metadata": {},
     "output_type": "execute_result"
    }
   ],
   "source": [
    "interneurons_sk"
   ]
  },
  {
   "cell_type": "code",
   "execution_count": null,
   "id": "0fbf731d",
   "metadata": {},
   "outputs": [],
   "source": [
    "fig = navis.plot3d([interneurons_sk[0], interneurons[0]], color=[(1, 0, 0), (1, 1, 1, .5)])"
   ]
  },
  {
   "cell_type": "code",
   "execution_count": null,
   "id": "44f4287f",
   "metadata": {},
   "outputs": [],
   "source": []
  }
 ],
 "metadata": {
  "kernelspec": {
   "display_name": "Python 3 (ipykernel)",
   "language": "python",
   "name": "python3"
  },
  "language_info": {
   "codemirror_mode": {
    "name": "ipython",
    "version": 3
   },
   "file_extension": ".py",
   "mimetype": "text/x-python",
   "name": "python",
   "nbconvert_exporter": "python",
   "pygments_lexer": "ipython3",
   "version": "3.11.9"
  }
 },
 "nbformat": 4,
 "nbformat_minor": 5
}
